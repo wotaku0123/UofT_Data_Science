{
 "cells": [
  {
   "cell_type": "code",
   "execution_count": 1,
   "metadata": {},
   "outputs": [],
   "source": [
    "def greeting():\n",
    "    print('Hello')"
   ]
  },
  {
   "cell_type": "code",
   "execution_count": 1,
   "metadata": {},
   "outputs": [
    {
     "ename": "NameError",
     "evalue": "name 'greeting' is not defined",
     "output_type": "error",
     "traceback": [
      "\u001b[0;31m---------------------------------------------------------------------------\u001b[0m",
      "\u001b[0;31mNameError\u001b[0m                                 Traceback (most recent call last)",
      "Cell \u001b[0;32mIn[1], line 1\u001b[0m\n\u001b[0;32m----> 1\u001b[0m greeting()\n",
      "\u001b[0;31mNameError\u001b[0m: name 'greeting' is not defined"
     ]
    }
   ],
   "source": [
    "greeting()"
   ]
  },
  {
   "cell_type": "code",
   "execution_count": 4,
   "metadata": {},
   "outputs": [
    {
     "name": "stdout",
     "output_type": "stream",
     "text": [
      "('Hello', 'Bonjour', 'Guten Tag')\n"
     ]
    }
   ],
   "source": [
    "def greeting(*args):\n",
    "    print(args)\n",
    "\n",
    "greeting('Hello', 'Bonjour', 'Guten Tag')"
   ]
  },
  {
   "cell_type": "code",
   "execution_count": 5,
   "metadata": {},
   "outputs": [
    {
     "name": "stdout",
     "output_type": "stream",
     "text": [
      "{'en': 'Hello', 'fr': 'Bonjour', 'de': 'Guten Tag'}\n"
     ]
    }
   ],
   "source": [
    "def greeting(**kwargs):\n",
    "    print(kwargs)\n",
    "\n",
    "greeting(en='Hello',fr='Bonjour',de='Guten Tag')"
   ]
  },
  {
   "cell_type": "code",
   "execution_count": 6,
   "metadata": {},
   "outputs": [
    {
     "name": "stdout",
     "output_type": "stream",
     "text": [
      "{'en': 'Hello', 'fr': 'Bonjour', 'de': 'Guten Tag'}\n"
     ]
    }
   ],
   "source": [
    "greeting_dict = {'en': 'Hello', 'fr':'Bonjour', 'de':'Guten Tag'}\n",
    "greeting(**greeting_dict)"
   ]
  },
  {
   "cell_type": "code",
   "execution_count": 8,
   "metadata": {},
   "outputs": [
    {
     "name": "stdout",
     "output_type": "stream",
     "text": [
      "Hi\n",
      "Hello\n",
      "('Bonjour',)\n",
      "{'de': 'Guten Tag'}\n"
     ]
    }
   ],
   "source": [
    "def greeting(greet,en='Hello',*args,**kwargs):\n",
    "    print(greet)\n",
    "    print(en)\n",
    "    print(args)\n",
    "    print(kwargs)\n",
    "\n",
    "greeting_list = ['Bonjour']\n",
    "\n",
    "greeting_dict = {'de': 'Guten Tag'}\n",
    "\n",
    "greeting('Hi', 'Hello', *greeting_list, **greeting_dict)"
   ]
  },
  {
   "cell_type": "code",
   "execution_count": 9,
   "metadata": {},
   "outputs": [
    {
     "data": {
      "text/plain": [
       "str"
      ]
     },
     "execution_count": 9,
     "metadata": {},
     "output_type": "execute_result"
    }
   ],
   "source": [
    "greeting_global = 'Hello'\n",
    "type(greeting_global)"
   ]
  },
  {
   "cell_type": "code",
   "execution_count": 11,
   "metadata": {},
   "outputs": [
    {
     "data": {
      "text/plain": [
       "function"
      ]
     },
     "execution_count": 11,
     "metadata": {},
     "output_type": "execute_result"
    }
   ],
   "source": [
    "def greeting_global():\n",
    "    print('This is the greeting_global function')\n",
    "\n",
    "type(greeting_global)"
   ]
  },
  {
   "cell_type": "code",
   "execution_count": 2,
   "metadata": {},
   "outputs": [
    {
     "name": "stdout",
     "output_type": "stream",
     "text": [
      "Hello world\n"
     ]
    }
   ],
   "source": [
    "print('Hello world')"
   ]
  },
  {
   "cell_type": "code",
   "execution_count": null,
   "metadata": {},
   "outputs": [],
   "source": []
  }
 ],
 "metadata": {
  "kernelspec": {
   "display_name": "Python 3.11.1 64-bit",
   "language": "python",
   "name": "python3"
  },
  "language_info": {
   "codemirror_mode": {
    "name": "ipython",
    "version": 3
   },
   "file_extension": ".py",
   "mimetype": "text/x-python",
   "name": "python",
   "nbconvert_exporter": "python",
   "pygments_lexer": "ipython3",
   "version": "3.11.1"
  },
  "orig_nbformat": 4,
  "vscode": {
   "interpreter": {
    "hash": "5c7b89af1651d0b8571dde13640ecdccf7d5a6204171d6ab33e7c296e100e08a"
   }
  }
 },
 "nbformat": 4,
 "nbformat_minor": 2
}
