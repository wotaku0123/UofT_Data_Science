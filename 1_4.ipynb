{
 "cells": [
  {
   "cell_type": "markdown",
   "metadata": {},
   "source": [
    "assert文\n",
    "テストとデバッグに有用なのが、assert文です。 これは、assert の次に書かれた条件式が真であるべきだと仕様を宣言する文です。 偽であった場合は、AssertionError が発生してプログラムがそこで停止します。\n",
    "\n",
    "与えられた引数を二乗する関数 square を用いた具体例を示します。"
   ]
  },
  {
   "cell_type": "code",
   "execution_count": 1,
   "metadata": {},
   "outputs": [],
   "source": [
    "def square(x):\n",
    "    return x*x\n",
    "\n",
    "x = -2\n",
    "assert square(x) > 0"
   ]
  },
  {
   "cell_type": "code",
   "execution_count": 3,
   "metadata": {},
   "outputs": [],
   "source": [
    "def square(x):\n",
    "    return x*x\n",
    "    \n",
    "assert square(2) == 4\n",
    "assert square(-2) == 4\n",
    "assert square(0) == 0"
   ]
  },
  {
   "cell_type": "code",
   "execution_count": 4,
   "metadata": {},
   "outputs": [
    {
     "ename": "AssertionError",
     "evalue": "",
     "output_type": "error",
     "traceback": [
      "\u001b[0;31m---------------------------------------------------------------------------\u001b[0m",
      "\u001b[0;31mAssertionError\u001b[0m                            Traceback (most recent call last)",
      "Cell \u001b[0;32mIn[4], line 11\u001b[0m\n\u001b[1;32m      8\u001b[0m         \u001b[39mreturn\u001b[39;00m z\n\u001b[1;32m      9\u001b[0m     \u001b[39mreturn\u001b[39;00m y\n\u001b[0;32m---> 11\u001b[0m \u001b[39massert\u001b[39;00m median(\u001b[39m3\u001b[39m, \u001b[39m1\u001b[39m, \u001b[39m2\u001b[39m) \u001b[39m==\u001b[39m \u001b[39m2\u001b[39m\n",
      "\u001b[0;31mAssertionError\u001b[0m: "
     ]
    }
   ],
   "source": [
    "def median(x, y, z):\n",
    "    if x > y:\n",
    "        x = y\n",
    "        y = x\n",
    "    if z < x:\n",
    "        return x\n",
    "    if z < y:\n",
    "        return z\n",
    "    return y\n",
    "\n",
    "assert median(3, 1, 2) == 2"
   ]
  },
  {
   "cell_type": "code",
   "execution_count": 5,
   "metadata": {},
   "outputs": [
    {
     "name": "stdout",
     "output_type": "stream",
     "text": [
      "3 1 2\n",
      "1 1 2\n"
     ]
    },
    {
     "ename": "AssertionError",
     "evalue": "",
     "output_type": "error",
     "traceback": [
      "\u001b[0;31m---------------------------------------------------------------------------\u001b[0m",
      "\u001b[0;31mAssertionError\u001b[0m                            Traceback (most recent call last)",
      "Cell \u001b[0;32mIn[5], line 13\u001b[0m\n\u001b[1;32m     10\u001b[0m         \u001b[39mreturn\u001b[39;00m z\n\u001b[1;32m     11\u001b[0m     \u001b[39mreturn\u001b[39;00m y\n\u001b[0;32m---> 13\u001b[0m \u001b[39massert\u001b[39;00m median(\u001b[39m3\u001b[39m, \u001b[39m1\u001b[39m, \u001b[39m2\u001b[39m) \u001b[39m==\u001b[39m \u001b[39m2\u001b[39m\n",
      "\u001b[0;31mAssertionError\u001b[0m: "
     ]
    }
   ],
   "source": [
    "def median(x, y, z):\n",
    "    print(x, y, z)\n",
    "    if x > y:\n",
    "        x = y\n",
    "        y = x\n",
    "    print(x, y, z)\n",
    "    if z < x:\n",
    "        return x\n",
    "    if z < y:\n",
    "        return z\n",
    "    return y\n",
    "\n",
    "assert median(3, 1, 2) == 2"
   ]
  },
  {
   "cell_type": "code",
   "execution_count": null,
   "metadata": {},
   "outputs": [],
   "source": []
  }
 ],
 "metadata": {
  "kernelspec": {
   "display_name": "Python 3.11.1 64-bit",
   "language": "python",
   "name": "python3"
  },
  "language_info": {
   "codemirror_mode": {
    "name": "ipython",
    "version": 3
   },
   "file_extension": ".py",
   "mimetype": "text/x-python",
   "name": "python",
   "nbconvert_exporter": "python",
   "pygments_lexer": "ipython3",
   "version": "3.11.1"
  },
  "orig_nbformat": 4,
  "vscode": {
   "interpreter": {
    "hash": "5c7b89af1651d0b8571dde13640ecdccf7d5a6204171d6ab33e7c296e100e08a"
   }
  }
 },
 "nbformat": 4,
 "nbformat_minor": 2
}
