{
 "cells": [
  {
   "cell_type": "code",
   "execution_count": 1,
   "metadata": {},
   "outputs": [
    {
     "name": "stdout",
     "output_type": "stream",
     "text": [
      "Hello World\n"
     ]
    }
   ],
   "source": [
    "def bmax(a, b):\n",
    "    if a > b:\n",
    "        return a\n",
    "    else:\n",
    "        return b\n",
    "\n",
    "print('Hello World')"
   ]
  },
  {
   "cell_type": "code",
   "execution_count": 4,
   "metadata": {},
   "outputs": [],
   "source": [
    "def exception3(x, y, z):\n",
    "    if x == y:\n",
    "        return z\n",
    "    elif x == z:\n",
    "        return y\n",
    "    else:\n",
    "        return x"
   ]
  },
  {
   "cell_type": "code",
   "execution_count": 5,
   "metadata": {},
   "outputs": [
    {
     "name": "stdout",
     "output_type": "stream",
     "text": [
      "1\n",
      "2\n",
      "3\n"
     ]
    }
   ],
   "source": [
    "print(exception3(1,2,2))\n",
    "print(exception3(4,2,4))\n",
    "print(exception3(9,3,9))"
   ]
  },
  {
   "cell_type": "code",
   "execution_count": 12,
   "metadata": {},
   "outputs": [],
   "source": [
    "def exception3(x, y, z):\n",
    "    if x == y:\n",
    "        return z\n",
    "    elif x == z:\n",
    "        return y\n",
    "    else:\n",
    "        return x\n",
    "\n",
    "def exception9(a):\n",
    "    x = a[0] + a[1] + a[2]\n",
    "    y = a[3] + a[4] + a[5]\n",
    "    z = a[6] + a[7] + a[8]\n",
    "\n",
    "    if x == y:\n",
    "        return exception3(a[6], a[7], a[8])\n",
    "    elif y == z:\n",
    "        return exception3(a[0], a[1], a[2])\n",
    "    else:\n",
    "        return exception3(a[3], a[4], a[5])"
   ]
  },
  {
   "cell_type": "code",
   "execution_count": 13,
   "metadata": {},
   "outputs": [
    {
     "name": "stdout",
     "output_type": "stream",
     "text": [
      "1\n",
      "2\n",
      "3\n"
     ]
    }
   ],
   "source": [
    "print(exception9([1,2,2,2,2,2,2,2,2]))\n",
    "print(exception9([4,4,4,4,4,2,4,4,4]))\n",
    "print(exception9([9,9,9,9,9,9,9,9,3]))"
   ]
  },
  {
   "cell_type": "code",
   "execution_count": 15,
   "metadata": {},
   "outputs": [
    {
     "name": "stdout",
     "output_type": "stream",
     "text": [
      "x, y and z are different and negatives\n",
      "x, y and z are different and negatives\n"
     ]
    }
   ],
   "source": [
    "x, y, z = (-1, -2, -3)\n",
    "if(x < 0 and y < 0 and z < 0 and x != y and y != z and x != z):\n",
    "    print('x, y and z are different and negatives')\n",
    "\n",
    "x, y, z = (-1, -2, -3)\n",
    "if x < 0 and y < 0 and z < 0 and \\\n",
    "    x != y and y != z and x != z:\n",
    "    print('x, y and z are different and negatives')"
   ]
  },
  {
   "cell_type": "code",
   "execution_count": 16,
   "metadata": {},
   "outputs": [
    {
     "name": "stdout",
     "output_type": "stream",
     "text": [
      "x is greater than zero.\n",
      "3\n"
     ]
    }
   ],
   "source": [
    "x = 3\n",
    "\n",
    "if x > 0:\n",
    "    print('x is greater than zero.')\n",
    "elif x < 0:\n",
    "    print('x is less than zero, but x will be zer0')\n",
    "else:\n",
    "    print('x is zero')\n",
    "\n",
    "print(x)"
   ]
  },
  {
   "cell_type": "code",
   "execution_count": 18,
   "metadata": {},
   "outputs": [
    {
     "name": "stdout",
     "output_type": "stream",
     "text": [
      "x is less than 1\n"
     ]
    }
   ],
   "source": [
    "x = -1\n",
    "if x < 1:\n",
    "    print('x is less than 1')\n",
    "elif x < 2:\n",
    "    print('x is larger than or equal to 1, and less than 2')\n",
    "elif x < 3:\n",
    "    print('x is larger than or equal to 2, and less than 3')\n",
    "else:\n",
    "    print('x is larger or equal to 3')"
   ]
  },
  {
   "cell_type": "code",
   "execution_count": 19,
   "metadata": {},
   "outputs": [
    {
     "ename": "NameError",
     "evalue": "name 'x' is not defined",
     "output_type": "error",
     "traceback": [
      "\u001b[0;31m---------------------------------------------------------------------------\u001b[0m",
      "\u001b[0;31mNameError\u001b[0m                                 Traceback (most recent call last)",
      "Cell \u001b[0;32mIn[19], line 6\u001b[0m\n\u001b[1;32m      2\u001b[0m y \u001b[39m=\u001b[39m \u001b[39m10\u001b[39m\n\u001b[1;32m      4\u001b[0m \u001b[39mdel\u001b[39;00m x\n\u001b[0;32m----> 6\u001b[0m \u001b[39mif\u001b[39;00m x \u001b[39m>\u001b[39m \u001b[39m5\u001b[39m \u001b[39mor\u001b[39;00m y \u001b[39m>\u001b[39m \u001b[39m5\u001b[39m:\n\u001b[1;32m      7\u001b[0m     \u001b[39mprint\u001b[39m(\u001b[39m\"\u001b[39m\u001b[39m'\u001b[39m\u001b[39mx\u001b[39m\u001b[39m'\u001b[39m\u001b[39m or \u001b[39m\u001b[39m'\u001b[39m\u001b[39my\u001b[39m\u001b[39m'\u001b[39m\u001b[39m is larger than 5\u001b[39m\u001b[39m\"\u001b[39m)\n",
      "\u001b[0;31mNameError\u001b[0m: name 'x' is not defined"
     ]
    }
   ],
   "source": [
    "x = 10\n",
    "y = 10\n",
    "\n",
    "del x\n",
    "\n",
    "if x > 5 or y > 5:\n",
    "    print(\"'x' or 'y' is larger than 5\")"
   ]
  },
  {
   "cell_type": "code",
   "execution_count": 20,
   "metadata": {},
   "outputs": [
    {
     "name": "stdout",
     "output_type": "stream",
     "text": [
      "positive or zero\n"
     ]
    }
   ],
   "source": [
    "#Pythonでは以下のように if ... else を1行に書くこともできます。\n",
    "x = 0\n",
    "sign = 'positive or zero' if x >= 0 else 'negative'\n",
    "print(sign)"
   ]
  },
  {
   "cell_type": "code",
   "execution_count": null,
   "metadata": {},
   "outputs": [],
   "source": [
    "x = 0\n"
   ]
  }
 ],
 "metadata": {
  "kernelspec": {
   "display_name": "Python 3.11.1 64-bit",
   "language": "python",
   "name": "python3"
  },
  "language_info": {
   "codemirror_mode": {
    "name": "ipython",
    "version": 3
   },
   "file_extension": ".py",
   "mimetype": "text/x-python",
   "name": "python",
   "nbconvert_exporter": "python",
   "pygments_lexer": "ipython3",
   "version": "3.11.1"
  },
  "orig_nbformat": 4,
  "vscode": {
   "interpreter": {
    "hash": "5c7b89af1651d0b8571dde13640ecdccf7d5a6204171d6ab33e7c296e100e08a"
   }
  }
 },
 "nbformat": 4,
 "nbformat_minor": 2
}
