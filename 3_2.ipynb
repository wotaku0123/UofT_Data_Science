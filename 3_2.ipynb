{
 "cells": [
  {
   "cell_type": "code",
   "execution_count": 1,
   "metadata": {},
   "outputs": [
    {
     "name": "stdout",
     "output_type": "stream",
     "text": [
      "dog 3\n",
      "cat 3\n",
      "mouse 5\n",
      "finish\n"
     ]
    }
   ],
   "source": [
    "words = ['dog', 'cat', 'mouse']\n",
    "for w in words:\n",
    "    print(w, len(w))\n",
    "print('finish')"
   ]
  },
  {
   "cell_type": "code",
   "execution_count": 2,
   "metadata": {},
   "outputs": [
    {
     "name": "stdout",
     "output_type": "stream",
     "text": [
      "97\n",
      "98\n",
      "122\n",
      "a\n"
     ]
    }
   ],
   "source": [
    "print(ord('a'))\n",
    "print(ord('b'))\n",
    "print(ord('z'))\n",
    "\n",
    "print(chr(97))"
   ]
  },
  {
   "cell_type": "code",
   "execution_count": 3,
   "metadata": {},
   "outputs": [
    {
     "name": "stdout",
     "output_type": "stream",
     "text": [
      "[3, 0, 3, 1, 2, 1, 1, 0, 7, 0, 0, 3, 0, 0, 2, 2, 0, 2, 3, 1, 2, 0, 0, 1, 0, 0]\n"
     ]
    }
   ],
   "source": [
    "word = 'supercalifragilisticexpialidocious'\n",
    "\n",
    "height = [0] * 26\n",
    "for c in word:\n",
    "    height[ord(c) - ord('a')] += 1\n",
    "\n",
    "print(height)"
   ]
  },
  {
   "cell_type": "code",
   "execution_count": 4,
   "metadata": {},
   "outputs": [
    {
     "name": "stdout",
     "output_type": "stream",
     "text": [
      "key cat .value: 3\n",
      "key dog .value: 3\n",
      "key elephant .value: 8\n"
     ]
    }
   ],
   "source": [
    "dic1 = {'cat': 3, 'dog': 3, 'elephant': 8}\n",
    "for key in dic1:\n",
    "    print('key', key, '.value:', dic1[key])"
   ]
  },
  {
   "cell_type": "code",
   "execution_count": 5,
   "metadata": {},
   "outputs": [
    {
     "name": "stdout",
     "output_type": "stream",
     "text": [
      "value:  3\n",
      "value:  3\n",
      "value:  8\n"
     ]
    }
   ],
   "source": [
    "for value in dic1.values():\n",
    "    print('value: ', value)"
   ]
  },
  {
   "cell_type": "code",
   "execution_count": 6,
   "metadata": {},
   "outputs": [
    {
     "name": "stdout",
     "output_type": "stream",
     "text": [
      "key: cat value: 3\n",
      "key: dog value: 3\n",
      "key: elephant value: 8\n"
     ]
    }
   ],
   "source": [
    "for key, value in dic1.items():\n",
    "    print('key:', key, 'value:', value)"
   ]
  },
  {
   "cell_type": "code",
   "execution_count": 7,
   "metadata": {},
   "outputs": [
    {
     "name": "stdout",
     "output_type": "stream",
     "text": [
      "0 10\n",
      "1 20\n",
      "2 30\n"
     ]
    }
   ],
   "source": [
    "list1 = [[0, 10], [1, 20], [2, 30]]\n",
    "for i, j in list1:\n",
    "    print(i, j)"
   ]
  },
  {
   "cell_type": "code",
   "execution_count": 14,
   "metadata": {},
   "outputs": [],
   "source": [
    "#練習\n",
    "\n",
    "def reverse_lookup2(dic1):\n",
    "    dic2 = {}\n",
    "    for key, value in dic1.items():\n",
    "        dic2[value] = key\n",
    "\n",
    "    return dic2"
   ]
  },
  {
   "cell_type": "code",
   "execution_count": 15,
   "metadata": {},
   "outputs": [
    {
     "name": "stdout",
     "output_type": "stream",
     "text": [
      "True\n"
     ]
    }
   ],
   "source": [
    "print(reverse_lookup2({'apple': 3, 'pen': 5, 'orange': 7}) == {3: 'apple', 5: 'pen', 7: 'orange'})"
   ]
  },
  {
   "cell_type": "code",
   "execution_count": 16,
   "metadata": {},
   "outputs": [
    {
     "name": "stdout",
     "output_type": "stream",
     "text": [
      "0\n",
      "1\n",
      "2\n",
      "3\n",
      "4\n"
     ]
    }
   ],
   "source": [
    "for value in range(5):\n",
    "    print(value)"
   ]
  },
  {
   "cell_type": "code",
   "execution_count": 18,
   "metadata": {},
   "outputs": [
    {
     "name": "stdout",
     "output_type": "stream",
     "text": [
      "e\n",
      "d\n",
      "a\n",
      "c\n",
      "f\n",
      "b\n"
     ]
    }
   ],
   "source": [
    "ln = ['e', 'd', 'a', 'c', 'f', 'b']\n",
    "for value in range(len(ln)):\n",
    "    print(ln[value])"
   ]
  },
  {
   "cell_type": "code",
   "execution_count": 19,
   "metadata": {},
   "outputs": [
    {
     "name": "stdout",
     "output_type": "stream",
     "text": [
      "45\n"
     ]
    }
   ],
   "source": [
    "s = 0\n",
    "for i in range(10):\n",
    "    s = s + i\n",
    "print(s)"
   ]
  },
  {
   "cell_type": "code",
   "execution_count": 26,
   "metadata": {},
   "outputs": [],
   "source": [
    "#練習\n",
    "def sum_n(x, y):\n",
    "    s = 0\n",
    "    for i in range(x, y+1):\n",
    "        s += i\n",
    "\n",
    "    return s"
   ]
  },
  {
   "cell_type": "code",
   "execution_count": 27,
   "metadata": {},
   "outputs": [
    {
     "name": "stdout",
     "output_type": "stream",
     "text": [
      "True\n"
     ]
    }
   ],
   "source": [
    "print(sum_n(1, 3) == 6)"
   ]
  },
  {
   "cell_type": "code",
   "execution_count": 28,
   "metadata": {},
   "outputs": [],
   "source": [
    "def construct_list(int_size):\n",
    "    list1 = []\n",
    "    for i in range(int_size):\n",
    "        list1.append(i)\n",
    "\n",
    "    return list1"
   ]
  },
  {
   "cell_type": "code",
   "execution_count": 29,
   "metadata": {},
   "outputs": [
    {
     "name": "stdout",
     "output_type": "stream",
     "text": [
      "True\n"
     ]
    }
   ],
   "source": [
    "print(construct_list(10) == [0, 1, 2, 3, 4, 5, 6, 7, 8, 9])"
   ]
  },
  {
   "cell_type": "code",
   "execution_count": 30,
   "metadata": {},
   "outputs": [
    {
     "name": "stdout",
     "output_type": "stream",
     "text": [
      "[0, 1, 2, 3, 4]\n"
     ]
    }
   ],
   "source": [
    "seq_list = list(range(5))\n",
    "print(seq_list)"
   ]
  },
  {
   "cell_type": "code",
   "execution_count": 31,
   "metadata": {},
   "outputs": [
    {
     "name": "stdout",
     "output_type": "stream",
     "text": [
      "list1の 1 番目の要素（リスト）の 1 番目の要素 = a\n",
      "list1の 1 番目の要素（リスト）の 2 番目の要素 = b\n",
      "list1の 1 番目の要素（リスト）の 3 番目の要素 = c\n",
      "list1の 2 番目の要素（リスト）の 1 番目の要素 = d\n",
      "list1の 2 番目の要素（リスト）の 2 番目の要素 = e\n",
      "list1の 2 番目の要素（リスト）の 3 番目の要素 = f\n",
      "list1の 3 番目の要素（リスト）の 1 番目の要素 = g\n",
      "list1の 3 番目の要素（リスト）の 2 番目の要素 = h\n",
      "list1の 3 番目の要素（リスト）の 3 番目の要素 = i\n",
      "list1の 4 番目の要素（リスト）の 1 番目の要素 = j\n",
      "list1の 4 番目の要素（リスト）の 2 番目の要素 = k\n",
      "list1の 4 番目の要素（リスト）の 3 番目の要素 = l\n"
     ]
    }
   ],
   "source": [
    "list1 = [['a', 'b', 'c'], ['d', 'e', 'f'], ['g', 'h', 'i'], ['j', 'k', 'l']]\n",
    "\n",
    "for i in range(4):\n",
    "    for j in range(3):\n",
    "         print('list1の', i + 1, '番目の要素（リスト）の', j + 1, '番目の要素 =', list1[i][j])"
   ]
  },
  {
   "cell_type": "code",
   "execution_count": 33,
   "metadata": {},
   "outputs": [
    {
     "data": {
      "text/plain": [
       "[[1],\n",
       " [1, 1],\n",
       " [1, 2, 1],\n",
       " [1, 3, 3, 1],\n",
       " [1, 4, 6, 4, 1],\n",
       " [1, 5, 10, 10, 5, 1],\n",
       " [1, 6, 15, 20, 15, 6, 1],\n",
       " [1, 7, 21, 35, 35, 21, 7, 1],\n",
       " [1, 8, 28, 56, 70, 56, 28, 8, 1],\n",
       " [1, 9, 36, 84, 126, 126, 84, 36, 9, 1]]"
      ]
     },
     "execution_count": 33,
     "metadata": {},
     "output_type": "execute_result"
    }
   ],
   "source": [
    "C = [[1]]\n",
    "for i in range(100):\n",
    "    C.append([1]+[0]*i + [1])\n",
    "    for j in range(i):\n",
    "        C[i+1][j+1] = C[i][j] + C[i][j+1]\n",
    "\n",
    "C[:10]"
   ]
  },
  {
   "cell_type": "code",
   "execution_count": 41,
   "metadata": {},
   "outputs": [],
   "source": [
    "def sum_lists(list1):\n",
    "    s = 0\n",
    "\n",
    "    for list2 in list1:\n",
    "        for i in range(len(list2)):\n",
    "            s += list2[i]\n",
    "\n",
    "    return s"
   ]
  },
  {
   "cell_type": "code",
   "execution_count": 42,
   "metadata": {},
   "outputs": [
    {
     "name": "stdout",
     "output_type": "stream",
     "text": [
      "True\n"
     ]
    }
   ],
   "source": [
    "print(sum_lists([[20, 5], [6, 16, 14, 5], [16, 8, 16, 17, 14], [1], [5, 3, 5, 7]]) == 158)"
   ]
  },
  {
   "cell_type": "code",
   "execution_count": 51,
   "metadata": {},
   "outputs": [],
   "source": [
    "def sum_matrix(list1, list2):\n",
    "    list3 = [[0,0,0],[0,0,0],[0,0,0]]\n",
    "    for i in range(3):\n",
    "        for j in range(3):\n",
    "            list3[i][j] += (list1[i][j] + list2[i][j])\n",
    "\n",
    "    return list3\n"
   ]
  },
  {
   "cell_type": "code",
   "execution_count": 52,
   "metadata": {},
   "outputs": [
    {
     "name": "stdout",
     "output_type": "stream",
     "text": [
      "True\n"
     ]
    }
   ],
   "source": [
    "print(sum_matrix([[1,2,3],[4,5,6],[7,8,9]], [[1,4,7],[2,5,8],[3,6,9]]) == [[2, 6, 10], [6, 10, 14], [10, 14, 18]])"
   ]
  },
  {
   "cell_type": "code",
   "execution_count": 53,
   "metadata": {},
   "outputs": [
    {
     "data": {
      "text/plain": [
       "[[1],\n",
       " [1, 1],\n",
       " [1, 2, 1],\n",
       " [1, 3, 3, 1],\n",
       " [1, 4, 6, 4, 1],\n",
       " [1, 5, 10, 10, 5, 1],\n",
       " [1, 6, 15, 20, 15, 6, 1],\n",
       " [1, 7, 21, 35, 35, 21, 7, 1],\n",
       " [1, 8, 28, 56, 70, 56, 28, 8, 1],\n",
       " [1, 9, 36, 84, 126, 126, 84, 36, 9, 1]]"
      ]
     },
     "execution_count": 53,
     "metadata": {},
     "output_type": "execute_result"
    }
   ],
   "source": [
    "C = [[1]]\n",
    "for i in range(100):\n",
    "    C.append([1]+[0]*i+[1])\n",
    "    for j in range(i):\n",
    "        C[i+1][j+1] = C[i][j] + C[i][j+1]\n",
    "\n",
    "C[:10]"
   ]
  },
  {
   "cell_type": "code",
   "execution_count": 59,
   "metadata": {},
   "outputs": [],
   "source": [
    "def average(d):\n",
    "    s = 0\n",
    "    for x in d:\n",
    "        s = s + x\n",
    "    return s/len(d)\n",
    "\n",
    "def variance(d):\n",
    "    s = 0\n",
    "    for x in d:\n",
    "        s = s + (x - average(d))**2\n",
    "    return s/len(d)"
   ]
  },
  {
   "cell_type": "code",
   "execution_count": 56,
   "metadata": {},
   "outputs": [],
   "source": [
    "import random\n",
    "\n",
    "d100 = []\n",
    "for i in range(100):\n",
    "    d100.append(random.gauss(0, 10))\n",
    "d10000 = []\n",
    "for i in range(10000):\n",
    "    d10000.append(random.gauss(0, 10))"
   ]
  },
  {
   "cell_type": "code",
   "execution_count": 63,
   "metadata": {},
   "outputs": [
    {
     "data": {
      "text/plain": [
       "99.2660163417071"
      ]
     },
     "execution_count": 63,
     "metadata": {},
     "output_type": "execute_result"
    }
   ],
   "source": [
    "variance(d100)\n",
    "variance(d10000)"
   ]
  },
  {
   "cell_type": "code",
   "execution_count": 61,
   "metadata": {},
   "outputs": [],
   "source": [
    "def variance(d):\n",
    "    av = average(d)\n",
    "    s = 0\n",
    "    for x in d:\n",
    "        s = s + (x-av)**2\n",
    "    return s/len(d)"
   ]
  },
  {
   "cell_type": "code",
   "execution_count": 64,
   "metadata": {},
   "outputs": [
    {
     "data": {
      "text/plain": [
       "99.2660163417071"
      ]
     },
     "execution_count": 64,
     "metadata": {},
     "output_type": "execute_result"
    }
   ],
   "source": [
    "variance(d10000)"
   ]
  },
  {
   "cell_type": "code",
   "execution_count": 66,
   "metadata": {},
   "outputs": [
    {
     "name": "stdout",
     "output_type": "stream",
     "text": [
      "{'dog': 0, 'cat': 1, 'mouse': 2}\n"
     ]
    }
   ],
   "source": [
    "words = ['dog', 'cat', 'mouse']\n",
    "mapping = {}\n",
    "for i, w in enumerate(words):\n",
    "    mapping[w] = i\n",
    "\n",
    "print(mapping)"
   ]
  },
  {
   "cell_type": "code",
   "execution_count": 67,
   "metadata": {},
   "outputs": [
    {
     "name": "stdout",
     "output_type": "stream",
     "text": [
      "11 55\n"
     ]
    }
   ],
   "source": [
    "x = 1\n",
    "total = 0\n",
    "while x <= 10:\n",
    "    total += x\n",
    "    x += 1\n",
    "\n",
    "print(x, total)"
   ]
  },
  {
   "cell_type": "code",
   "execution_count": 70,
   "metadata": {},
   "outputs": [],
   "source": [
    "def simple_lsearch(lst, myitem):\n",
    "    for item in lst:\n",
    "        if item == myitem:\n",
    "            return True\n",
    "    return False"
   ]
  },
  {
   "cell_type": "code",
   "execution_count": 72,
   "metadata": {},
   "outputs": [
    {
     "name": "stdout",
     "output_type": "stream",
     "text": [
      "4 504\n"
     ]
    }
   ],
   "source": [
    "x = 256\n",
    "total = 0\n",
    "while x > 0:\n",
    "    if total > 500:\n",
    "        break\n",
    "    total += x\n",
    "    x = x // 2\n",
    "\n",
    "print(x, total)"
   ]
  },
  {
   "cell_type": "code",
   "execution_count": 73,
   "metadata": {},
   "outputs": [],
   "source": [
    "def simple_match(str1, str2):\n",
    "    \n",
    "    for i in range(len(str1) - len(str2) + 1):\n",
    "        j = 0\n",
    "        while j < len(str2) and str1[i + j] == str2[j]:\n",
    "            j += 1\n",
    "        if j == len(str2):\n",
    "            return i\n",
    "    return -1"
   ]
  },
  {
   "cell_type": "code",
   "execution_count": 74,
   "metadata": {},
   "outputs": [
    {
     "name": "stdout",
     "output_type": "stream",
     "text": [
      "True\n",
      "True\n",
      "True\n",
      "True\n"
     ]
    }
   ],
   "source": [
    "print(simple_match('location', 'cat') == 2)\n",
    "print(simple_match('soccer', 'cat') == -1)\n",
    "print(simple_match('category', 'cat') == 0)\n",
    "print(simple_match('carpet', 'cat') == -1)"
   ]
  },
  {
   "cell_type": "code",
   "execution_count": 75,
   "metadata": {},
   "outputs": [
    {
     "name": "stdout",
     "output_type": "stream",
     "text": [
      "red\n",
      "green\n",
      "blue\n",
      "white\n"
     ]
    }
   ],
   "source": [
    "colors = ['red', 'green', 'blue', 'black', 'white']\n",
    "for c in colors:\n",
    "    if c == 'black':\n",
    "        continue\n",
    "    print(c)"
   ]
  },
  {
   "cell_type": "code",
   "execution_count": 76,
   "metadata": {},
   "outputs": [
    {
     "name": "stdout",
     "output_type": "stream",
     "text": [
      "red\n",
      "green\n",
      "blue\n",
      "white\n",
      "\n"
     ]
    }
   ],
   "source": [
    "for c in colors:\n",
    "    if c == 'black':\n",
    "        continue\n",
    "    print(c)\n",
    "else:\n",
    "    print('')"
   ]
  },
  {
   "cell_type": "code",
   "execution_count": 77,
   "metadata": {},
   "outputs": [
    {
     "name": "stdout",
     "output_type": "stream",
     "text": [
      "x is psitive\n"
     ]
    }
   ],
   "source": [
    "x = -1\n",
    "if x < 0:\n",
    "    print('x is psitive')\n",
    "elif x == 0:\n",
    "    pass\n",
    "elif 0 < x < 5:\n",
    "    print('x is positive and smaller than 5')\n",
    "else:\n",
    "    print('x is positive ans larger than or equal to 5')"
   ]
  },
  {
   "cell_type": "code",
   "execution_count": 81,
   "metadata": {},
   "outputs": [
    {
     "name": "stdout",
     "output_type": "stream",
     "text": [
      "Yeah!\n",
      "Yeah!\n",
      "Yeah!\n",
      "Yeah!\n",
      "Yeah!\n",
      "Yeah!\n",
      "Yeah!\n",
      "Yeah!\n",
      "Yeah!\n",
      "Yeah!\n"
     ]
    }
   ],
   "source": [
    "from time import sleep\n",
    "\n",
    "count = 0\n",
    "while True:\n",
    "    print('Yeah!')\n",
    "    if count == 9:\n",
    "        break\n",
    "    count+=1\n",
    "    sleep(1)"
   ]
  },
  {
   "cell_type": "code",
   "execution_count": 91,
   "metadata": {},
   "outputs": [],
   "source": [
    "# def collect_engwords(str_engsentence):\n",
    "#     list_punctuation = ['.', ',',';',':','!','?']\n",
    "#     for j in range(len(list_punctuation)):\n",
    "#         str_engsentences = str_engsentences.replace(list_punctuation[j],'')\n",
    "\n",
    "#     list_str1 = str_engsentences.split(' ')\n",
    "#     list_str2 = []\n",
    "\n",
    "#     for j in range(len(list_str1)):\n",
    "#         if len(list_str1[j]) >= 3:\n",
    "#             list_str2.append(list_str1[j])\n",
    "#     return list_str2\n",
    "def collect_engwords(str_engsentences):\n",
    "    list_punctuation = ['.', ',', ':', ';', '!', '?']\n",
    "    for j in range(len(list_punctuation)):  #list_punctuationの中の文字列（この場合、句読点）を空文字列に置換する\n",
    "        str_engsentences = str_engsentences.replace(list_punctuation[j], '')\n",
    "    #print(str_engsentences)\n",
    "    list_str1 = str_engsentences.split(' ')\n",
    "    list_str2 = []\n",
    "    for j in range(len(list_str1)):\n",
    "        if len(list_str1[j]) >= 3:\n",
    "            list_str2.append(list_str1[j])\n",
    "    return list_str2"
   ]
  },
  {
   "cell_type": "code",
   "execution_count": 92,
   "metadata": {},
   "outputs": [
    {
     "name": "stdout",
     "output_type": "stream",
     "text": [
      "True\n"
     ]
    }
   ],
   "source": [
    "print(collect_engwords('Unfortunately no, it requires something with a little more kick, plutonium.') == ['Unfortunately', 'requires',\n",
    "'something', 'with', 'little', 'more', 'kick', 'plutonium'])"
   ]
  },
  {
   "cell_type": "code",
   "execution_count": 5,
   "metadata": {},
   "outputs": [],
   "source": [
    "def swap_lists(ln1, ln2):  \n",
    "    for i in range(len(ln1)):\n",
    "        if i % 2 == 1:\n",
    "            temp = ln2[i]\n",
    "            ln2[i] = ln1[i]\n",
    "            ln1[i] = temp\n",
    "\n",
    "    return ln1, ln2"
   ]
  },
  {
   "cell_type": "code",
   "execution_count": 6,
   "metadata": {},
   "outputs": [
    {
     "name": "stdout",
     "output_type": "stream",
     "text": [
      "True\n"
     ]
    }
   ],
   "source": [
    "print(swap_lists([1, 2, 3, 4, 5], ['a', 'b', 'c', 'd', 'e']) == ([1, 'b', 3, 'd', 5], ['a', 2, 'c', 4, 'e']))"
   ]
  },
  {
   "cell_type": "code",
   "execution_count": 15,
   "metadata": {},
   "outputs": [],
   "source": [
    "def count_capitalletters(str1):\n",
    "    count = 0\n",
    "    for i in range(len(str1)):\n",
    "        str2 = str1[i].upper()\n",
    "        str3 = str1[i].lower()\n",
    "        if str1[i] == str2 and str2 != str3:\n",
    "            count+=1\n",
    "    return count\n",
    "    "
   ]
  },
  {
   "cell_type": "code",
   "execution_count": 16,
   "metadata": {},
   "outputs": [
    {
     "name": "stdout",
     "output_type": "stream",
     "text": [
      "True\n"
     ]
    }
   ],
   "source": [
    "print(count_capitalletters('Que Será, Será') == 3)"
   ]
  },
  {
   "cell_type": "code",
   "execution_count": 23,
   "metadata": {},
   "outputs": [],
   "source": [
    "def identify_codons(str_augc):\n",
    "    str_codons = []\n",
    "    for i in range(int(len(str_augc) / 3)):\n",
    "        str_codons.append(str_augc[i*3: i*3+3])\n",
    "    return str_codons"
   ]
  },
  {
   "cell_type": "code",
   "execution_count": 24,
   "metadata": {},
   "outputs": [
    {
     "name": "stdout",
     "output_type": "stream",
     "text": [
      "True\n"
     ]
    }
   ],
   "source": [
    "print(identify_codons('CCCCCGGCACCT') == ['CCC', 'CCG', 'GCA', 'CCT'])"
   ]
  },
  {
   "cell_type": "code",
   "execution_count": 29,
   "metadata": {},
   "outputs": [],
   "source": [
    "def add_commas(int1):\n",
    "    list1 = list(str(int1))\n",
    "    str1 = ''\n",
    "    ccnt = 1\n",
    "    for i in range(len(list1)-1, -1, -1):\n",
    "        str1 = list1[i] + str1\n",
    "        if ccnt % 3 == 0 and i != 0:\n",
    "            str1 = ',' + str1\n",
    "        ccnt +=1\n",
    "    return str1"
   ]
  },
  {
   "cell_type": "code",
   "execution_count": 30,
   "metadata": {},
   "outputs": [
    {
     "name": "stdout",
     "output_type": "stream",
     "text": [
      "True\n",
      "True\n",
      "True\n",
      "True\n"
     ]
    }
   ],
   "source": [
    "print(add_commas(14980) == '14,980')\n",
    "print(add_commas(3980) == '3,980')\n",
    "print(add_commas(298) == '298')\n",
    "print(add_commas(1000000) == '1,000,000')"
   ]
  },
  {
   "cell_type": "code",
   "execution_count": 41,
   "metadata": {},
   "outputs": [],
   "source": [
    "def sum_strings(list1):\n",
    "    str1 = ''\n",
    "    for i in range(len(list1)):\n",
    "        if i < len(list1) - 2:\n",
    "            str1 = str1 + str(list1[i]) + ', '\n",
    "        elif i == len(list1) -2:\n",
    "            str1 += str(list1[i]) + ' and '\n",
    "        else:\n",
    "            str1 += str(list1[i])\n",
    "        \n",
    "    return str1\n",
    "            \n"
   ]
  },
  {
   "cell_type": "code",
   "execution_count": 42,
   "metadata": {},
   "outputs": [
    {
     "name": "stdout",
     "output_type": "stream",
     "text": [
      "True\n",
      "True\n",
      "True\n"
     ]
    }
   ],
   "source": [
    "print(sum_strings(['a', 'b', 'c', 'd']) == 'a, b, c and d')\n",
    "print(sum_strings(['a']) == 'a')\n",
    "print(sum_strings([1, 2, 3]) == '1, 2 and 3')"
   ]
  },
  {
   "cell_type": "code",
   "execution_count": null,
   "metadata": {},
   "outputs": [],
   "source": []
  },
  {
   "cell_type": "code",
   "execution_count": null,
   "metadata": {},
   "outputs": [],
   "source": []
  }
 ],
 "metadata": {
  "kernelspec": {
   "display_name": "Python 3.11.1 64-bit",
   "language": "python",
   "name": "python3"
  },
  "language_info": {
   "codemirror_mode": {
    "name": "ipython",
    "version": 3
   },
   "file_extension": ".py",
   "mimetype": "text/x-python",
   "name": "python",
   "nbconvert_exporter": "python",
   "pygments_lexer": "ipython3",
   "version": "3.11.1"
  },
  "orig_nbformat": 4,
  "vscode": {
   "interpreter": {
    "hash": "5c7b89af1651d0b8571dde13640ecdccf7d5a6204171d6ab33e7c296e100e08a"
   }
  }
 },
 "nbformat": 4,
 "nbformat_minor": 2
}
